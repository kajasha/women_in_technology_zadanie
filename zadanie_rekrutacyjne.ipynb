{
 "cells": [
  {
   "cell_type": "markdown",
   "metadata": {},
   "source": [
    "**Seria warsztatów z analizy danych w Pythonie**\n",
    "\n",
    "_Zadanie rekrutacyjne_\n",
    "\n",
    "Napisz funkcję <code><font color=\"blue\">are_anagrams</font>(s1, s2, s3)</code>, która zwróci:\n",
    "\n",
    "* <code>True</code>, jeżeli łańcuchy znaków <code>s1, s2, s3</code> są anagramami,\n",
    "\n",
    "* <code>False</code>, jeżeli łańcuchy znaków <code>s1, s2, s3</code> nie są anagramami.\n",
    "\n",
    "Załóż, że maksymalna długość każdego z łańcuchów znaków jest równa **5**.\n",
    "\n",
    "Uzasadnij zaproponowane rozwiązanie, umieszczając komentarze w treści kodu."
   ]
  },
  {
   "cell_type": "code",
   "execution_count": 43,
   "metadata": {},
   "outputs": [
    {
     "name": "stdout",
     "output_type": "stream",
     "text": [
      "The strings are anagrams.\n",
      "The strings lenght must be equal 5.\n",
      "The strings are not anagrams.\n"
     ]
    }
   ],
   "source": [
    "def are_anagrams(s1, s2, s3):\n",
    "    \n",
    "    if len(s1) != 5:\n",
    "        print(\"The strings lenght must be equal 5.\")\n",
    "    \n",
    "    elif(sorted(s1)== sorted(s2)== sorted(s3)):\n",
    "        print(\"The strings are anagrams.\")\n",
    "        \n",
    "    else:\n",
    "        print(\"The strings are not anagrams.\")         \n",
    "    return\n",
    "  \n",
    "are_anagrams(\"litre\", \"relit\", \"liter\")\n",
    "are_anagrams(\"ripe\", \"lipe\", \"peli\")\n",
    "are_anagrams(\"elbow\", \"below\", \"blowq\")"
   ]
  }
 ],
 "metadata": {
  "celltoolbar": "Edit Metadata",
  "kernelspec": {
   "display_name": "Python 3",
   "language": "python",
   "name": "python3"
  },
  "language_info": {
   "codemirror_mode": {
    "name": "ipython",
    "version": 3
   },
   "file_extension": ".py",
   "mimetype": "text/x-python",
   "name": "python",
   "nbconvert_exporter": "python",
   "pygments_lexer": "ipython3",
   "version": "3.7.8"
  }
 },
 "nbformat": 4,
 "nbformat_minor": 2
}
